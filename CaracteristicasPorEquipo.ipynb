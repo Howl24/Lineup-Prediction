{
 "cells": [
  {
   "cell_type": "code",
   "execution_count": 1,
   "metadata": {},
   "outputs": [],
   "source": [
    "from selenium import webdriver \n",
    "from selenium.webdriver.common.by import By \n",
    "from selenium.webdriver.support.ui import WebDriverWait \n",
    "from selenium.webdriver.support import expected_conditions as EC \n",
    "from selenium.common.exceptions import TimeoutException\n",
    "\n",
    "from selenium.webdriver.support.ui import Select\n"
   ]
  },
  {
   "cell_type": "code",
   "execution_count": 2,
   "metadata": {},
   "outputs": [],
   "source": [
    "option = webdriver.ChromeOptions()\n",
    "option.add_argument(\" — incognito\")"
   ]
  },
  {
   "cell_type": "code",
   "execution_count": 3,
   "metadata": {},
   "outputs": [],
   "source": [
    "browser = webdriver.Chrome(executable_path='./chromedriver',\n",
    "                           chrome_options=option)"
   ]
  },
  {
   "cell_type": "code",
   "execution_count": 10,
   "metadata": {},
   "outputs": [],
   "source": [
    "team_links = [\n",
    "    'https://es.whoscored.com/Teams/341/Archive/Francia-France',    \n",
    "    'https://es.whoscored.com/Teams/408/Archive/Colombia-Colombia',\n",
    "]"
   ]
  },
  {
   "cell_type": "code",
   "execution_count": 5,
   "metadata": {},
   "outputs": [],
   "source": [
    "def wait_browser(browser, load_xpath, timeout=20):\n",
    "    try:\n",
    "        WebDriverWait(browser, timeout).until(\n",
    "            EC.visibility_of_element_located(\n",
    "                (By.XPATH, load_xpath)))\n",
    "    except TimeoutException:\n",
    "        print(\"Timed out waiting for page to load\")\n",
    "        browser.quit()"
   ]
  },
  {
   "cell_type": "code",
   "execution_count": 11,
   "metadata": {},
   "outputs": [
    {
     "data": {
      "text/html": [
       "<div>\n",
       "<style scoped>\n",
       "    .dataframe tbody tr th:only-of-type {\n",
       "        vertical-align: middle;\n",
       "    }\n",
       "\n",
       "    .dataframe tbody tr th {\n",
       "        vertical-align: top;\n",
       "    }\n",
       "\n",
       "    .dataframe thead th {\n",
       "        text-align: right;\n",
       "    }\n",
       "</style>\n",
       "<table border=\"1\" class=\"dataframe\">\n",
       "  <thead>\n",
       "    <tr style=\"text-align: right;\">\n",
       "      <th></th>\n",
       "      <th>Campeonato</th>\n",
       "      <th>Disciplina</th>\n",
       "      <th>Entradas por partido</th>\n",
       "      <th>Equipo</th>\n",
       "      <th>Goles por partido</th>\n",
       "      <th>Pm Posesión</th>\n",
       "      <th>Precisión de Pase</th>\n",
       "      <th>Regates por partido</th>\n",
       "      <th>Temporada</th>\n",
       "      <th>Tiros por partido</th>\n",
       "    </tr>\n",
       "  </thead>\n",
       "  <tbody>\n",
       "    <tr>\n",
       "      <th>0</th>\n",
       "      <td>European Championship</td>\n",
       "      <td>130</td>\n",
       "      <td>17,9</td>\n",
       "      <td>France</td>\n",
       "      <td>1,9</td>\n",
       "      <td>54,3%</td>\n",
       "      <td>85,4%</td>\n",
       "      <td>12,7</td>\n",
       "      <td>2016</td>\n",
       "      <td>17,7</td>\n",
       "    </tr>\n",
       "    <tr>\n",
       "      <th>1</th>\n",
       "      <td>Copa America</td>\n",
       "      <td>111</td>\n",
       "      <td>24,3</td>\n",
       "      <td>Colombia</td>\n",
       "      <td>0,3</td>\n",
       "      <td>48,8%</td>\n",
       "      <td>76,3%</td>\n",
       "      <td>8</td>\n",
       "      <td>2015</td>\n",
       "      <td>12</td>\n",
       "    </tr>\n",
       "  </tbody>\n",
       "</table>\n",
       "</div>"
      ],
      "text/plain": [
       "              Campeonato Disciplina Entradas por partido    Equipo  \\\n",
       "0  European Championship        130                 17,9    France   \n",
       "1           Copa America        111                 24,3  Colombia   \n",
       "\n",
       "  Goles por partido Pm Posesión Precisión de Pase Regates por partido  \\\n",
       "0               1,9       54,3%             85,4%                12,7   \n",
       "1               0,3       48,8%             76,3%                   8   \n",
       "\n",
       "  Temporada Tiros por partido  \n",
       "0      2016              17,7  \n",
       "1      2015                12  "
      ]
     },
     "execution_count": 11,
     "metadata": {},
     "output_type": "execute_result"
    }
   ],
   "source": [
    "import pandas as pd\n",
    "\n",
    "data = []\n",
    "\n",
    "for team_link in team_links:\n",
    "    team_data = {}\n",
    "    \n",
    "    browser.get(team_link)\n",
    "    wait_browser(browser, '//a[@class=\"team-link\"]')    \n",
    "    team_data['Equipo'] = browser.find_element_by_xpath('//a[@class=\"team-link\"]').text\n",
    "    stats_container = browser.find_element_by_xpath('//div[@class=\"stats-container\"]')\n",
    "    labels = stats_container.find_elements_by_tag_name('dt')\n",
    "    values = stats_container.find_elements_by_tag_name('dd')\n",
    "    for l, v in zip(labels, values):\n",
    "        team_data[l.text] = v.text\n",
    "        \n",
    "    data.append(team_data)\n",
    "    \n",
    "df = pd.DataFrame(data)\n",
    "df.head()"
   ]
  }
 ],
 "metadata": {
  "kernelspec": {
   "display_name": "Python 3",
   "language": "python",
   "name": "python3"
  },
  "language_info": {
   "codemirror_mode": {
    "name": "ipython",
    "version": 3
   },
   "file_extension": ".py",
   "mimetype": "text/x-python",
   "name": "python",
   "nbconvert_exporter": "python",
   "pygments_lexer": "ipython3",
   "version": "3.6.4"
  }
 },
 "nbformat": 4,
 "nbformat_minor": 2
}
