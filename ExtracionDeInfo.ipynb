{
 "cells": [
  {
   "cell_type": "code",
   "execution_count": 117,
   "metadata": {},
   "outputs": [],
   "source": [
    "from bs4 import BeautifulSoup\n",
    "from urllib.request import urlopen\n",
    "URLPRI = \"http://www.losmundialesdefutbol.com\"\n",
    "url = \"http://www.losmundialesdefutbol.com/mundiales.php\""
   ]
  },
  {
   "cell_type": "code",
   "execution_count": 118,
   "metadata": {},
   "outputs": [],
   "source": [
    "def returnWebObject(url):\n",
    "    return BeautifulSoup(urlopen(url) , \"lxml\")"
   ]
  },
  {
   "cell_type": "code",
   "execution_count": 119,
   "metadata": {},
   "outputs": [],
   "source": [
    "class Player:\n",
    "    def __init__(self, name ,position, wasCaptain):\n",
    "        self.name = name\n",
    "        self.position = position\n",
    "        self.wasCaptain = False\n",
    "    def __str__(self):\n",
    "        return self.name\n",
    "    def __repr__(self):\n",
    "        return self.name"
   ]
  },
  {
   "cell_type": "code",
   "execution_count": 137,
   "metadata": {},
   "outputs": [],
   "source": [
    "class Team:\n",
    "    def __init__(self , name , goal ):\n",
    "        self.name = name\n",
    "        self.goal = goal\n",
    "        self.formation = None\n",
    "        self.players = list()\n",
    "    def getStringFromFormation(self):\n",
    "        # Example 4-4-2\n",
    "        pass"
   ]
  },
  {
   "cell_type": "code",
   "execution_count": 121,
   "metadata": {},
   "outputs": [],
   "source": [
    "class Match:\n",
    "    def __init__(self , firstTeam , secondTeam ,goals ,info):\n",
    "        self.firstTeam = Team(firstTeam , goals[0])\n",
    "        self.secondTeam = Team(secondTeam , goals[1])\n",
    "        self.info = info"
   ]
  },
  {
   "cell_type": "code",
   "execution_count": 122,
   "metadata": {},
   "outputs": [],
   "source": [
    "\n",
    "class WorldCup:\n",
    "    def __init__(self , year , location , champion) :\n",
    "        self.champion = champion\n",
    "        self.location = location\n",
    "        self.year = year\n",
    "        self.countries = set()\n",
    "        self.matches = list()\n",
    "    def __str__(self):\n",
    "        return \"Copa del mundo del \" + str(self.year) + \" /Campeon \" + self.champion + \"/Lugar: \" + self.location \n",
    "    def __repr__(self):\n",
    "        return \"Copa del mundo del \" + str(self.year) + \" /Campeon \" + self.champion + \"/Lugar: \" + self.location "
   ]
  },
  {
   "cell_type": "code",
   "execution_count": 123,
   "metadata": {},
   "outputs": [
    {
     "data": {
      "text/plain": [
       "[Copa del mundo del 2018 /Campeon -/Lugar: Rusia,\n",
       " Copa del mundo del 2014 /Campeon Alemania/Lugar: Brasil,\n",
       " Copa del mundo del 2010 /Campeon España/Lugar: Sudáfrica,\n",
       " Copa del mundo del 2006 /Campeon Italia/Lugar: Alemania,\n",
       " Copa del mundo del 2002 /Campeon //Lugar: Corea,\n",
       " Copa del mundo del 1998 /Campeon Francia/Lugar: Francia,\n",
       " Copa del mundo del 1994 /Campeon Unidos/Lugar: Estados,\n",
       " Copa del mundo del 1990 /Campeon Alemania/Lugar: Italia,\n",
       " Copa del mundo del 1986 /Campeon Argentina/Lugar: México,\n",
       " Copa del mundo del 1982 /Campeon Italia/Lugar: España,\n",
       " Copa del mundo del 1978 /Campeon Argentina/Lugar: Argentina,\n",
       " Copa del mundo del 1974 /Campeon Alemania/Lugar: Alemania,\n",
       " Copa del mundo del 1970 /Campeon Brasil/Lugar: México,\n",
       " Copa del mundo del 1966 /Campeon Inglaterra/Lugar: Inglaterra,\n",
       " Copa del mundo del 1962 /Campeon Brasil/Lugar: Chile,\n",
       " Copa del mundo del 1958 /Campeon Brasil/Lugar: Suecia,\n",
       " Copa del mundo del 1954 /Campeon Alemania/Lugar: Suiza,\n",
       " Copa del mundo del 1950 /Campeon Uruguay/Lugar: Brasil,\n",
       " Copa del mundo del 1938 /Campeon Italia/Lugar: Francia,\n",
       " Copa del mundo del 1934 /Campeon Italia/Lugar: Italia,\n",
       " Copa del mundo del 1930 /Campeon Uruguay/Lugar: Uruguay]"
      ]
     },
     "execution_count": 123,
     "metadata": {},
     "output_type": "execute_result"
    }
   ],
   "source": [
    "pageListWorldSoccerCups = returnWebObject(URLPRI)\n",
    "listWorldCups = list()\n",
    "tableWordChampions = pageListWorldSoccerCups.find(\"div\", {\"class\": \"rd-100-40 rd-pad-0-l2\"})\n",
    "for x in tableWordChampions.find_all(\"tr\"):\n",
    "    if x.find(\"div\", {\"class\" : \"left\" , \"style\":\"width: 50% ; min-width: 100px\"}):\n",
    "        auxSplit = x.text.split()\n",
    "        listWorldCups.append(WorldCup(int(auxSplit[0]) , auxSplit[1] ,auxSplit[2]))\n",
    "listWorldCups = listWorldCups[::-1]\n",
    "listWorldCups"
   ]
  },
  {
   "cell_type": "code",
   "execution_count": 124,
   "metadata": {},
   "outputs": [],
   "source": [
    "pageListWorldSoccerCups = returnWebObject(url)"
   ]
  },
  {
   "cell_type": "code",
   "execution_count": 125,
   "metadata": {},
   "outputs": [
    {
     "data": {
      "text/plain": [
       "['mundiales/2018_resultados.php',\n",
       " 'mundiales/2014_resultados.php',\n",
       " 'mundiales/2010_resultados.php',\n",
       " 'mundiales/2006_resultados.php',\n",
       " 'mundiales/2002_resultados.php',\n",
       " 'mundiales/1998_resultados.php',\n",
       " 'mundiales/1994_resultados.php',\n",
       " 'mundiales/1990_resultados.php',\n",
       " 'mundiales/1986_resultados.php',\n",
       " 'mundiales/1982_resultados.php',\n",
       " 'mundiales/1978_resultados.php',\n",
       " 'mundiales/1974_resultados.php',\n",
       " 'mundiales/1970_resultados.php',\n",
       " 'mundiales/1966_resultados.php',\n",
       " 'mundiales/1962_resultados.php',\n",
       " 'mundiales/1958_resultados.php',\n",
       " 'mundiales/1954_resultados.php',\n",
       " 'mundiales/1950_resultados.php',\n",
       " 'mundiales/1938_resultados.php',\n",
       " 'mundiales/1934_resultados.php',\n",
       " 'mundiales/1930_resultados.php']"
      ]
     },
     "execution_count": 125,
     "metadata": {},
     "output_type": "execute_result"
    }
   ],
   "source": [
    "linksResultsWorlCupsMatches = []\n",
    "for link in pageListWorldSoccerCups.findAll(\"a\",href=True):\n",
    "    if \"resultados\" in link[\"href\"]:\n",
    "        linksResultsWorlCupsMatches.append(link[\"href\"])\n",
    "linksResultsWorlCupsMatches"
   ]
  },
  {
   "cell_type": "code",
   "execution_count": 126,
   "metadata": {},
   "outputs": [],
   "source": [
    "webPages = list()\n",
    "for links in linksResultsWorlCupsMatches:\n",
    "    webPages.append(returnWebObject(URLPRI+\"/\"+links))\n"
   ]
  },
  {
   "cell_type": "code",
   "execution_count": 127,
   "metadata": {},
   "outputs": [],
   "source": [
    "def getGoals(result):\n",
    "    goals = result.split(\"-\")\n",
    "    return int(goals[0]),int(goals[1])\n",
    "def cleanWords(firsWord , secondWord = None):\n",
    "    if secondWord == None :\n",
    "        return firsWord .strip()\n",
    "    else:\n",
    "        return firsWord.strip() , secondWord.strip()"
   ]
  },
  {
   "cell_type": "code",
   "execution_count": 128,
   "metadata": {},
   "outputs": [],
   "source": [
    "for i , worldCup in enumerate(webPages):    \n",
    "    for row in worldCup.findAll(\"div\",{\"class\": \"margen-t3 clearfix\"}): # Una linea de la pagina \n",
    "        infoMatch = row.find(\"div\",{\"class\":\"game margen-b3 clearfix\"})\n",
    "        firstTeam = infoMatch.find(\"div\",{\"class\":\"left margen-b1 clearfix\"})\n",
    "        secondTeam = infoMatch.find(\"div\",{\"class\": \"left a-left margen-b1 clearfix\"})\n",
    "        firstTeam , secondTeam = cleanWords(firstTeam.text , secondTeam.text)       \n",
    "        listWorldCups[i].countries.add(secondTeam)\n",
    "        listWorldCups[i].countries.add(firstTeam)\n",
    "        if i != 0:\n",
    "            for result in infoMatch.find(\"div\",{\"class\" : \"left a-center margen-b3 clearfix\"}).findAll(\"a\",href=True):\n",
    "                continue\n",
    "            listWorldCups[i].matches.append(Match(firstTeam , secondTeam , getGoals(result.text), result[\"href\"]))\n",
    "        else :\n",
    "            listWorldCups[i].matches.append(Match(firstTeam , secondTeam , (0,0), \"\"))\n"
   ]
  },
  {
   "cell_type": "code",
   "execution_count": 129,
   "metadata": {},
   "outputs": [],
   "source": [
    "listWorldCups = listWorldCups[1:] # No se esta considerando el mundial del 2018"
   ]
  },
  {
   "cell_type": "code",
   "execution_count": 130,
   "metadata": {},
   "outputs": [],
   "source": [
    "def getLinkForMatch(info):\n",
    "    #con esto obtenemos los links necesarios \n",
    "    if \"..\" in info:\n",
    "        return URLPRI + info[2:]\n",
    "    else :\n",
    "        return URLPRI + info"
   ]
  },
  {
   "cell_type": "code",
   "execution_count": 131,
   "metadata": {},
   "outputs": [],
   "source": [
    "def getPlayerInfo(row):\n",
    "    name = \"\"\n",
    "    wasCapitan = False\n",
    "    pos = cleanWords(str(row.find(\"td\").text))\n",
    "    for x in row.find(\"div\",{\"style\":\"float: left ; \"}).text.split():\n",
    "        if x == \"(C)\":\n",
    "            wasCapitan = True\n",
    "        else:\n",
    "            name = x + \" \" + name\n",
    "    return Player(name, pos , wasCapitan)"
   ]
  },
  {
   "cell_type": "code",
   "execution_count": 142,
   "metadata": {},
   "outputs": [],
   "source": [
    "for worldCups in listWorldCups[0:1]:\n",
    "    for match in worldCups.matches[0:1]:\n",
    "        contain = returnWebObject(getLinkForMatch(match.info))\n",
    "        firstTable = contain.find(\"div\",{\"class\":\"rd-100-50 rd-pad-0-r2\"})\n",
    "        formation = dict()\n",
    "        for i , row in enumerate(firstTable.findAll(\"tr\",{\"style\":\"vertical-align: top\"})):\n",
    "            if i > 10:\n",
    "                break\n",
    "            player = getPlayerInfo(row)\n",
    "            try:\n",
    "                formation[player.position] = formation[player.position] +1\n",
    "            except:\n",
    "                formation[player.position] = 1\n",
    "            match.firstTeam.players.append(player)\n",
    "        match.firstTeam.formation = formation\n",
    "        secondTable = contain.find(\"div\",{\"class\":\"rd-100-50 rd-pad-0-l2\"})\n",
    "        formation = dict()\n",
    "        for i , row in enumerate(secondTable.findAll(\"tr\",{\"style\":\"vertical-align: top\"})):\n",
    "            if i > 10:\n",
    "                break\n",
    "            player = getPlayerInfo(row)\n",
    "            try:\n",
    "                formation[player.position] = formation[player.position] +1\n",
    "            except:\n",
    "                formation[player.position] = 1\n",
    "            match.secondTeam.players.append(player)\n",
    "        match.secondTeam.formation = formation\n",
    "            \n",
    "            "
   ]
  },
  {
   "cell_type": "code",
   "execution_count": 141,
   "metadata": {},
   "outputs": [],
   "source": [
    "listWorldCups[0].matches[0].secondTeam.players = list()\n",
    "listWorldCups[0].matches[1].firstTeam.players = list()"
   ]
  },
  {
   "cell_type": "code",
   "execution_count": 143,
   "metadata": {},
   "outputs": [
    {
     "data": {
      "text/plain": [
       "[Pletikosa Stipe ,\n",
       " Vrsaljko Sime ,\n",
       " Corluka Vedran ,\n",
       " Lovren Dejan ,\n",
       " Srna Darijo ,\n",
       " Perisic Ivan ,\n",
       " Rakitic Ivan ,\n",
       " Modric Luka ,\n",
       " Kovacic Mateo ,\n",
       " Jelavic Nikica ,\n",
       " Olic Ivica ]"
      ]
     },
     "execution_count": 143,
     "metadata": {},
     "output_type": "execute_result"
    }
   ],
   "source": [
    "listWorldCups[0].matches[0].secondTeam.players"
   ]
  },
  {
   "cell_type": "code",
   "execution_count": null,
   "metadata": {},
   "outputs": [],
   "source": []
  }
 ],
 "metadata": {
  "kernelspec": {
   "display_name": "Python 3",
   "language": "python",
   "name": "python3"
  },
  "language_info": {
   "codemirror_mode": {
    "name": "ipython",
    "version": 3
   },
   "file_extension": ".py",
   "mimetype": "text/x-python",
   "name": "python",
   "nbconvert_exporter": "python",
   "pygments_lexer": "ipython3",
   "version": "3.6.4"
  }
 },
 "nbformat": 4,
 "nbformat_minor": 2
}
