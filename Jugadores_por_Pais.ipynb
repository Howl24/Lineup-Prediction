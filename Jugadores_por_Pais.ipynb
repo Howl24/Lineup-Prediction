{
 "cells": [
  {
   "cell_type": "code",
   "execution_count": 1,
   "metadata": {
    "collapsed": true
   },
   "outputs": [],
   "source": [
    "import urllib.request\n",
    "import re\n",
    "\n",
    "def get_url_text(url):\n",
    "    return urllib.request.urlopen(url).read().decode('utf-8')"
   ]
  },
  {
   "cell_type": "code",
   "execution_count": 2,
   "metadata": {},
   "outputs": [],
   "source": [
    "wc_url = \"http://www.thesoccerworldcups.com/world_cups/2014_world_cup.php\"\n",
    "page_url = \"http://www.thesoccerworldcups.com\"\n",
    "\n",
    "wc_text = get_url_text(wc_url)\n",
    "strips = re.findall('class=\"rd-50-25\"(.*?)</div>', wc_text, re.S)\n",
    "\n",
    "data = []\n",
    "for s in strips:        \n",
    "    players_href = re.findall(\"href='..(.*?)'>\", s)[0]\n",
    "    players_link = page_url + players_href\n",
    "    team_name = re.findall(\"<br>(.*?)</a>\", s)[0]    \n",
    "    players_text = get_url_text(players_link)\n",
    "    \n",
    "    player_info = re.findall(\"<td ><a(.*?)</td>(.*?)</td>\", players_text, re.S)\n",
    "    \n",
    "    \n",
    "    for info in player_info:        \n",
    "        #player_link = re.findall(\"href='(.*?)>\", info[0])\n",
    "        player_name = re.findall(\">(.*?)</a>\", info[0])[0]\n",
    "        player_position = re.findall(\" >(.*)\", info[1])[0]\n",
    "        data.append([team_name, player_name, player_position])"
   ]
  },
  {
   "cell_type": "code",
   "execution_count": 3,
   "metadata": {},
   "outputs": [],
   "source": [
    "import pandas as pd\n",
    "df = pd.DataFrame(data, columns=[\"Equipo\", \"Jugador\", \"Posición\"])\n",
    "df.to_csv(\"Jugadores_2.csv\")"
   ]
  },
  {
   "cell_type": "code",
   "execution_count": null,
   "metadata": {
    "collapsed": true
   },
   "outputs": [],
   "source": []
  }
 ],
 "metadata": {
  "kernelspec": {
   "display_name": "Python 3",
   "language": "python",
   "name": "python3"
  },
  "language_info": {
   "codemirror_mode": {
    "name": "ipython",
    "version": 3
   },
   "file_extension": ".py",
   "mimetype": "text/x-python",
   "name": "python",
   "nbconvert_exporter": "python",
   "pygments_lexer": "ipython3",
   "version": "3.6.1"
  }
 },
 "nbformat": 4,
 "nbformat_minor": 2
}
